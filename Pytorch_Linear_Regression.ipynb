{
  "nbformat": 4,
  "nbformat_minor": 0,
  "metadata": {
    "colab": {
      "provenance": [],
      "toc_visible": true,
      "authorship_tag": "ABX9TyOpTp4HBCoVhmH7mvXZkCMK",
      "include_colab_link": true
    },
    "kernelspec": {
      "name": "python3",
      "display_name": "Python 3"
    },
    "language_info": {
      "name": "python"
    },
    "accelerator": "GPU",
    "gpuClass": "standard"
  },
  "cells": [
    {
      "cell_type": "markdown",
      "metadata": {
        "id": "view-in-github",
        "colab_type": "text"
      },
      "source": [
        "<a href=\"https://colab.research.google.com/github/sosier/Learning/blob/main/Pytorch_Linear_Regression.ipynb\" target=\"_parent\"><img src=\"https://colab.research.google.com/assets/colab-badge.svg\" alt=\"Open In Colab\"/></a>"
      ]
    },
    {
      "cell_type": "markdown",
      "source": [
        "# **Pytorch Linear Regression**"
      ],
      "metadata": {
        "id": "cRKYixyF1c4Y"
      }
    },
    {
      "cell_type": "code",
      "execution_count": 1,
      "metadata": {
        "id": "uBi6SVXHmiPz",
        "colab": {
          "base_uri": "https://localhost:8080/"
        },
        "outputId": "d7593d26-e472-4a60-fbfe-423b19899aec"
      },
      "outputs": [
        {
          "output_type": "stream",
          "name": "stdout",
          "text": [
            "Using cuda\n"
          ]
        }
      ],
      "source": [
        "import pandas as pd\n",
        "import torch\n",
        "from torch import nn\n",
        "import torch.nn.functional as F\n",
        "\n",
        "DEVICE = \"cuda\" if torch.cuda.is_available() else \"cpu\"\n",
        "print(f\"Using {DEVICE}\")"
      ]
    },
    {
      "cell_type": "code",
      "source": [
        "train_data_path = \"sample_data/california_housing_train.csv\"\n",
        "test_data_path = \"sample_data/california_housing_test.csv\"\n",
        "y_column = \"median_house_value\""
      ],
      "metadata": {
        "id": "tEh93zDAqSte"
      },
      "execution_count": 2,
      "outputs": []
    },
    {
      "cell_type": "markdown",
      "source": [
        "## **Load Data**"
      ],
      "metadata": {
        "id": "BH5HPL3h1mfU"
      }
    },
    {
      "cell_type": "code",
      "source": [
        "train = pd.read_csv(train_data_path)\n",
        "train"
      ],
      "metadata": {
        "colab": {
          "base_uri": "https://localhost:8080/",
          "height": 424
        },
        "id": "gPAy6EBinpdr",
        "outputId": "a071f5f7-8d6f-481e-afa6-bb8ec2454a0f"
      },
      "execution_count": 3,
      "outputs": [
        {
          "output_type": "execute_result",
          "data": {
            "text/plain": [
              "       longitude  latitude  housing_median_age  total_rooms  total_bedrooms  \\\n",
              "0        -114.31     34.19                15.0       5612.0          1283.0   \n",
              "1        -114.47     34.40                19.0       7650.0          1901.0   \n",
              "2        -114.56     33.69                17.0        720.0           174.0   \n",
              "3        -114.57     33.64                14.0       1501.0           337.0   \n",
              "4        -114.57     33.57                20.0       1454.0           326.0   \n",
              "...          ...       ...                 ...          ...             ...   \n",
              "16995    -124.26     40.58                52.0       2217.0           394.0   \n",
              "16996    -124.27     40.69                36.0       2349.0           528.0   \n",
              "16997    -124.30     41.84                17.0       2677.0           531.0   \n",
              "16998    -124.30     41.80                19.0       2672.0           552.0   \n",
              "16999    -124.35     40.54                52.0       1820.0           300.0   \n",
              "\n",
              "       population  households  median_income  median_house_value  \n",
              "0          1015.0       472.0         1.4936             66900.0  \n",
              "1          1129.0       463.0         1.8200             80100.0  \n",
              "2           333.0       117.0         1.6509             85700.0  \n",
              "3           515.0       226.0         3.1917             73400.0  \n",
              "4           624.0       262.0         1.9250             65500.0  \n",
              "...           ...         ...            ...                 ...  \n",
              "16995       907.0       369.0         2.3571            111400.0  \n",
              "16996      1194.0       465.0         2.5179             79000.0  \n",
              "16997      1244.0       456.0         3.0313            103600.0  \n",
              "16998      1298.0       478.0         1.9797             85800.0  \n",
              "16999       806.0       270.0         3.0147             94600.0  \n",
              "\n",
              "[17000 rows x 9 columns]"
            ],
            "text/html": [
              "\n",
              "  <div id=\"df-02efa647-4efc-4f40-a6e2-bda50cdd4fa9\">\n",
              "    <div class=\"colab-df-container\">\n",
              "      <div>\n",
              "<style scoped>\n",
              "    .dataframe tbody tr th:only-of-type {\n",
              "        vertical-align: middle;\n",
              "    }\n",
              "\n",
              "    .dataframe tbody tr th {\n",
              "        vertical-align: top;\n",
              "    }\n",
              "\n",
              "    .dataframe thead th {\n",
              "        text-align: right;\n",
              "    }\n",
              "</style>\n",
              "<table border=\"1\" class=\"dataframe\">\n",
              "  <thead>\n",
              "    <tr style=\"text-align: right;\">\n",
              "      <th></th>\n",
              "      <th>longitude</th>\n",
              "      <th>latitude</th>\n",
              "      <th>housing_median_age</th>\n",
              "      <th>total_rooms</th>\n",
              "      <th>total_bedrooms</th>\n",
              "      <th>population</th>\n",
              "      <th>households</th>\n",
              "      <th>median_income</th>\n",
              "      <th>median_house_value</th>\n",
              "    </tr>\n",
              "  </thead>\n",
              "  <tbody>\n",
              "    <tr>\n",
              "      <th>0</th>\n",
              "      <td>-114.31</td>\n",
              "      <td>34.19</td>\n",
              "      <td>15.0</td>\n",
              "      <td>5612.0</td>\n",
              "      <td>1283.0</td>\n",
              "      <td>1015.0</td>\n",
              "      <td>472.0</td>\n",
              "      <td>1.4936</td>\n",
              "      <td>66900.0</td>\n",
              "    </tr>\n",
              "    <tr>\n",
              "      <th>1</th>\n",
              "      <td>-114.47</td>\n",
              "      <td>34.40</td>\n",
              "      <td>19.0</td>\n",
              "      <td>7650.0</td>\n",
              "      <td>1901.0</td>\n",
              "      <td>1129.0</td>\n",
              "      <td>463.0</td>\n",
              "      <td>1.8200</td>\n",
              "      <td>80100.0</td>\n",
              "    </tr>\n",
              "    <tr>\n",
              "      <th>2</th>\n",
              "      <td>-114.56</td>\n",
              "      <td>33.69</td>\n",
              "      <td>17.0</td>\n",
              "      <td>720.0</td>\n",
              "      <td>174.0</td>\n",
              "      <td>333.0</td>\n",
              "      <td>117.0</td>\n",
              "      <td>1.6509</td>\n",
              "      <td>85700.0</td>\n",
              "    </tr>\n",
              "    <tr>\n",
              "      <th>3</th>\n",
              "      <td>-114.57</td>\n",
              "      <td>33.64</td>\n",
              "      <td>14.0</td>\n",
              "      <td>1501.0</td>\n",
              "      <td>337.0</td>\n",
              "      <td>515.0</td>\n",
              "      <td>226.0</td>\n",
              "      <td>3.1917</td>\n",
              "      <td>73400.0</td>\n",
              "    </tr>\n",
              "    <tr>\n",
              "      <th>4</th>\n",
              "      <td>-114.57</td>\n",
              "      <td>33.57</td>\n",
              "      <td>20.0</td>\n",
              "      <td>1454.0</td>\n",
              "      <td>326.0</td>\n",
              "      <td>624.0</td>\n",
              "      <td>262.0</td>\n",
              "      <td>1.9250</td>\n",
              "      <td>65500.0</td>\n",
              "    </tr>\n",
              "    <tr>\n",
              "      <th>...</th>\n",
              "      <td>...</td>\n",
              "      <td>...</td>\n",
              "      <td>...</td>\n",
              "      <td>...</td>\n",
              "      <td>...</td>\n",
              "      <td>...</td>\n",
              "      <td>...</td>\n",
              "      <td>...</td>\n",
              "      <td>...</td>\n",
              "    </tr>\n",
              "    <tr>\n",
              "      <th>16995</th>\n",
              "      <td>-124.26</td>\n",
              "      <td>40.58</td>\n",
              "      <td>52.0</td>\n",
              "      <td>2217.0</td>\n",
              "      <td>394.0</td>\n",
              "      <td>907.0</td>\n",
              "      <td>369.0</td>\n",
              "      <td>2.3571</td>\n",
              "      <td>111400.0</td>\n",
              "    </tr>\n",
              "    <tr>\n",
              "      <th>16996</th>\n",
              "      <td>-124.27</td>\n",
              "      <td>40.69</td>\n",
              "      <td>36.0</td>\n",
              "      <td>2349.0</td>\n",
              "      <td>528.0</td>\n",
              "      <td>1194.0</td>\n",
              "      <td>465.0</td>\n",
              "      <td>2.5179</td>\n",
              "      <td>79000.0</td>\n",
              "    </tr>\n",
              "    <tr>\n",
              "      <th>16997</th>\n",
              "      <td>-124.30</td>\n",
              "      <td>41.84</td>\n",
              "      <td>17.0</td>\n",
              "      <td>2677.0</td>\n",
              "      <td>531.0</td>\n",
              "      <td>1244.0</td>\n",
              "      <td>456.0</td>\n",
              "      <td>3.0313</td>\n",
              "      <td>103600.0</td>\n",
              "    </tr>\n",
              "    <tr>\n",
              "      <th>16998</th>\n",
              "      <td>-124.30</td>\n",
              "      <td>41.80</td>\n",
              "      <td>19.0</td>\n",
              "      <td>2672.0</td>\n",
              "      <td>552.0</td>\n",
              "      <td>1298.0</td>\n",
              "      <td>478.0</td>\n",
              "      <td>1.9797</td>\n",
              "      <td>85800.0</td>\n",
              "    </tr>\n",
              "    <tr>\n",
              "      <th>16999</th>\n",
              "      <td>-124.35</td>\n",
              "      <td>40.54</td>\n",
              "      <td>52.0</td>\n",
              "      <td>1820.0</td>\n",
              "      <td>300.0</td>\n",
              "      <td>806.0</td>\n",
              "      <td>270.0</td>\n",
              "      <td>3.0147</td>\n",
              "      <td>94600.0</td>\n",
              "    </tr>\n",
              "  </tbody>\n",
              "</table>\n",
              "<p>17000 rows × 9 columns</p>\n",
              "</div>\n",
              "      <button class=\"colab-df-convert\" onclick=\"convertToInteractive('df-02efa647-4efc-4f40-a6e2-bda50cdd4fa9')\"\n",
              "              title=\"Convert this dataframe to an interactive table.\"\n",
              "              style=\"display:none;\">\n",
              "        \n",
              "  <svg xmlns=\"http://www.w3.org/2000/svg\" height=\"24px\"viewBox=\"0 0 24 24\"\n",
              "       width=\"24px\">\n",
              "    <path d=\"M0 0h24v24H0V0z\" fill=\"none\"/>\n",
              "    <path d=\"M18.56 5.44l.94 2.06.94-2.06 2.06-.94-2.06-.94-.94-2.06-.94 2.06-2.06.94zm-11 1L8.5 8.5l.94-2.06 2.06-.94-2.06-.94L8.5 2.5l-.94 2.06-2.06.94zm10 10l.94 2.06.94-2.06 2.06-.94-2.06-.94-.94-2.06-.94 2.06-2.06.94z\"/><path d=\"M17.41 7.96l-1.37-1.37c-.4-.4-.92-.59-1.43-.59-.52 0-1.04.2-1.43.59L10.3 9.45l-7.72 7.72c-.78.78-.78 2.05 0 2.83L4 21.41c.39.39.9.59 1.41.59.51 0 1.02-.2 1.41-.59l7.78-7.78 2.81-2.81c.8-.78.8-2.07 0-2.86zM5.41 20L4 18.59l7.72-7.72 1.47 1.35L5.41 20z\"/>\n",
              "  </svg>\n",
              "      </button>\n",
              "      \n",
              "  <style>\n",
              "    .colab-df-container {\n",
              "      display:flex;\n",
              "      flex-wrap:wrap;\n",
              "      gap: 12px;\n",
              "    }\n",
              "\n",
              "    .colab-df-convert {\n",
              "      background-color: #E8F0FE;\n",
              "      border: none;\n",
              "      border-radius: 50%;\n",
              "      cursor: pointer;\n",
              "      display: none;\n",
              "      fill: #1967D2;\n",
              "      height: 32px;\n",
              "      padding: 0 0 0 0;\n",
              "      width: 32px;\n",
              "    }\n",
              "\n",
              "    .colab-df-convert:hover {\n",
              "      background-color: #E2EBFA;\n",
              "      box-shadow: 0px 1px 2px rgba(60, 64, 67, 0.3), 0px 1px 3px 1px rgba(60, 64, 67, 0.15);\n",
              "      fill: #174EA6;\n",
              "    }\n",
              "\n",
              "    [theme=dark] .colab-df-convert {\n",
              "      background-color: #3B4455;\n",
              "      fill: #D2E3FC;\n",
              "    }\n",
              "\n",
              "    [theme=dark] .colab-df-convert:hover {\n",
              "      background-color: #434B5C;\n",
              "      box-shadow: 0px 1px 3px 1px rgba(0, 0, 0, 0.15);\n",
              "      filter: drop-shadow(0px 1px 2px rgba(0, 0, 0, 0.3));\n",
              "      fill: #FFFFFF;\n",
              "    }\n",
              "  </style>\n",
              "\n",
              "      <script>\n",
              "        const buttonEl =\n",
              "          document.querySelector('#df-02efa647-4efc-4f40-a6e2-bda50cdd4fa9 button.colab-df-convert');\n",
              "        buttonEl.style.display =\n",
              "          google.colab.kernel.accessAllowed ? 'block' : 'none';\n",
              "\n",
              "        async function convertToInteractive(key) {\n",
              "          const element = document.querySelector('#df-02efa647-4efc-4f40-a6e2-bda50cdd4fa9');\n",
              "          const dataTable =\n",
              "            await google.colab.kernel.invokeFunction('convertToInteractive',\n",
              "                                                     [key], {});\n",
              "          if (!dataTable) return;\n",
              "\n",
              "          const docLinkHtml = 'Like what you see? Visit the ' +\n",
              "            '<a target=\"_blank\" href=https://colab.research.google.com/notebooks/data_table.ipynb>data table notebook</a>'\n",
              "            + ' to learn more about interactive tables.';\n",
              "          element.innerHTML = '';\n",
              "          dataTable['output_type'] = 'display_data';\n",
              "          await google.colab.output.renderOutput(dataTable, element);\n",
              "          const docLink = document.createElement('div');\n",
              "          docLink.innerHTML = docLinkHtml;\n",
              "          element.appendChild(docLink);\n",
              "        }\n",
              "      </script>\n",
              "    </div>\n",
              "  </div>\n",
              "  "
            ]
          },
          "metadata": {},
          "execution_count": 3
        }
      ]
    },
    {
      "cell_type": "code",
      "source": [
        "test = pd.read_csv(test_data_path)\n",
        "test"
      ],
      "metadata": {
        "colab": {
          "base_uri": "https://localhost:8080/",
          "height": 424
        },
        "id": "Yfm3vlOUqwnV",
        "outputId": "3c06e803-f597-4c5d-a0bb-7b5eb4cc863a"
      },
      "execution_count": 4,
      "outputs": [
        {
          "output_type": "execute_result",
          "data": {
            "text/plain": [
              "      longitude  latitude  housing_median_age  total_rooms  total_bedrooms  \\\n",
              "0       -122.05     37.37                27.0       3885.0           661.0   \n",
              "1       -118.30     34.26                43.0       1510.0           310.0   \n",
              "2       -117.81     33.78                27.0       3589.0           507.0   \n",
              "3       -118.36     33.82                28.0         67.0            15.0   \n",
              "4       -119.67     36.33                19.0       1241.0           244.0   \n",
              "...         ...       ...                 ...          ...             ...   \n",
              "2995    -119.86     34.42                23.0       1450.0           642.0   \n",
              "2996    -118.14     34.06                27.0       5257.0          1082.0   \n",
              "2997    -119.70     36.30                10.0        956.0           201.0   \n",
              "2998    -117.12     34.10                40.0         96.0            14.0   \n",
              "2999    -119.63     34.42                42.0       1765.0           263.0   \n",
              "\n",
              "      population  households  median_income  median_house_value  \n",
              "0         1537.0       606.0         6.6085            344700.0  \n",
              "1          809.0       277.0         3.5990            176500.0  \n",
              "2         1484.0       495.0         5.7934            270500.0  \n",
              "3           49.0        11.0         6.1359            330000.0  \n",
              "4          850.0       237.0         2.9375             81700.0  \n",
              "...          ...         ...            ...                 ...  \n",
              "2995      1258.0       607.0         1.1790            225000.0  \n",
              "2996      3496.0      1036.0         3.3906            237200.0  \n",
              "2997       693.0       220.0         2.2895             62000.0  \n",
              "2998        46.0        14.0         3.2708            162500.0  \n",
              "2999       753.0       260.0         8.5608            500001.0  \n",
              "\n",
              "[3000 rows x 9 columns]"
            ],
            "text/html": [
              "\n",
              "  <div id=\"df-980cab9a-0745-4b6b-9de6-948c558691a0\">\n",
              "    <div class=\"colab-df-container\">\n",
              "      <div>\n",
              "<style scoped>\n",
              "    .dataframe tbody tr th:only-of-type {\n",
              "        vertical-align: middle;\n",
              "    }\n",
              "\n",
              "    .dataframe tbody tr th {\n",
              "        vertical-align: top;\n",
              "    }\n",
              "\n",
              "    .dataframe thead th {\n",
              "        text-align: right;\n",
              "    }\n",
              "</style>\n",
              "<table border=\"1\" class=\"dataframe\">\n",
              "  <thead>\n",
              "    <tr style=\"text-align: right;\">\n",
              "      <th></th>\n",
              "      <th>longitude</th>\n",
              "      <th>latitude</th>\n",
              "      <th>housing_median_age</th>\n",
              "      <th>total_rooms</th>\n",
              "      <th>total_bedrooms</th>\n",
              "      <th>population</th>\n",
              "      <th>households</th>\n",
              "      <th>median_income</th>\n",
              "      <th>median_house_value</th>\n",
              "    </tr>\n",
              "  </thead>\n",
              "  <tbody>\n",
              "    <tr>\n",
              "      <th>0</th>\n",
              "      <td>-122.05</td>\n",
              "      <td>37.37</td>\n",
              "      <td>27.0</td>\n",
              "      <td>3885.0</td>\n",
              "      <td>661.0</td>\n",
              "      <td>1537.0</td>\n",
              "      <td>606.0</td>\n",
              "      <td>6.6085</td>\n",
              "      <td>344700.0</td>\n",
              "    </tr>\n",
              "    <tr>\n",
              "      <th>1</th>\n",
              "      <td>-118.30</td>\n",
              "      <td>34.26</td>\n",
              "      <td>43.0</td>\n",
              "      <td>1510.0</td>\n",
              "      <td>310.0</td>\n",
              "      <td>809.0</td>\n",
              "      <td>277.0</td>\n",
              "      <td>3.5990</td>\n",
              "      <td>176500.0</td>\n",
              "    </tr>\n",
              "    <tr>\n",
              "      <th>2</th>\n",
              "      <td>-117.81</td>\n",
              "      <td>33.78</td>\n",
              "      <td>27.0</td>\n",
              "      <td>3589.0</td>\n",
              "      <td>507.0</td>\n",
              "      <td>1484.0</td>\n",
              "      <td>495.0</td>\n",
              "      <td>5.7934</td>\n",
              "      <td>270500.0</td>\n",
              "    </tr>\n",
              "    <tr>\n",
              "      <th>3</th>\n",
              "      <td>-118.36</td>\n",
              "      <td>33.82</td>\n",
              "      <td>28.0</td>\n",
              "      <td>67.0</td>\n",
              "      <td>15.0</td>\n",
              "      <td>49.0</td>\n",
              "      <td>11.0</td>\n",
              "      <td>6.1359</td>\n",
              "      <td>330000.0</td>\n",
              "    </tr>\n",
              "    <tr>\n",
              "      <th>4</th>\n",
              "      <td>-119.67</td>\n",
              "      <td>36.33</td>\n",
              "      <td>19.0</td>\n",
              "      <td>1241.0</td>\n",
              "      <td>244.0</td>\n",
              "      <td>850.0</td>\n",
              "      <td>237.0</td>\n",
              "      <td>2.9375</td>\n",
              "      <td>81700.0</td>\n",
              "    </tr>\n",
              "    <tr>\n",
              "      <th>...</th>\n",
              "      <td>...</td>\n",
              "      <td>...</td>\n",
              "      <td>...</td>\n",
              "      <td>...</td>\n",
              "      <td>...</td>\n",
              "      <td>...</td>\n",
              "      <td>...</td>\n",
              "      <td>...</td>\n",
              "      <td>...</td>\n",
              "    </tr>\n",
              "    <tr>\n",
              "      <th>2995</th>\n",
              "      <td>-119.86</td>\n",
              "      <td>34.42</td>\n",
              "      <td>23.0</td>\n",
              "      <td>1450.0</td>\n",
              "      <td>642.0</td>\n",
              "      <td>1258.0</td>\n",
              "      <td>607.0</td>\n",
              "      <td>1.1790</td>\n",
              "      <td>225000.0</td>\n",
              "    </tr>\n",
              "    <tr>\n",
              "      <th>2996</th>\n",
              "      <td>-118.14</td>\n",
              "      <td>34.06</td>\n",
              "      <td>27.0</td>\n",
              "      <td>5257.0</td>\n",
              "      <td>1082.0</td>\n",
              "      <td>3496.0</td>\n",
              "      <td>1036.0</td>\n",
              "      <td>3.3906</td>\n",
              "      <td>237200.0</td>\n",
              "    </tr>\n",
              "    <tr>\n",
              "      <th>2997</th>\n",
              "      <td>-119.70</td>\n",
              "      <td>36.30</td>\n",
              "      <td>10.0</td>\n",
              "      <td>956.0</td>\n",
              "      <td>201.0</td>\n",
              "      <td>693.0</td>\n",
              "      <td>220.0</td>\n",
              "      <td>2.2895</td>\n",
              "      <td>62000.0</td>\n",
              "    </tr>\n",
              "    <tr>\n",
              "      <th>2998</th>\n",
              "      <td>-117.12</td>\n",
              "      <td>34.10</td>\n",
              "      <td>40.0</td>\n",
              "      <td>96.0</td>\n",
              "      <td>14.0</td>\n",
              "      <td>46.0</td>\n",
              "      <td>14.0</td>\n",
              "      <td>3.2708</td>\n",
              "      <td>162500.0</td>\n",
              "    </tr>\n",
              "    <tr>\n",
              "      <th>2999</th>\n",
              "      <td>-119.63</td>\n",
              "      <td>34.42</td>\n",
              "      <td>42.0</td>\n",
              "      <td>1765.0</td>\n",
              "      <td>263.0</td>\n",
              "      <td>753.0</td>\n",
              "      <td>260.0</td>\n",
              "      <td>8.5608</td>\n",
              "      <td>500001.0</td>\n",
              "    </tr>\n",
              "  </tbody>\n",
              "</table>\n",
              "<p>3000 rows × 9 columns</p>\n",
              "</div>\n",
              "      <button class=\"colab-df-convert\" onclick=\"convertToInteractive('df-980cab9a-0745-4b6b-9de6-948c558691a0')\"\n",
              "              title=\"Convert this dataframe to an interactive table.\"\n",
              "              style=\"display:none;\">\n",
              "        \n",
              "  <svg xmlns=\"http://www.w3.org/2000/svg\" height=\"24px\"viewBox=\"0 0 24 24\"\n",
              "       width=\"24px\">\n",
              "    <path d=\"M0 0h24v24H0V0z\" fill=\"none\"/>\n",
              "    <path d=\"M18.56 5.44l.94 2.06.94-2.06 2.06-.94-2.06-.94-.94-2.06-.94 2.06-2.06.94zm-11 1L8.5 8.5l.94-2.06 2.06-.94-2.06-.94L8.5 2.5l-.94 2.06-2.06.94zm10 10l.94 2.06.94-2.06 2.06-.94-2.06-.94-.94-2.06-.94 2.06-2.06.94z\"/><path d=\"M17.41 7.96l-1.37-1.37c-.4-.4-.92-.59-1.43-.59-.52 0-1.04.2-1.43.59L10.3 9.45l-7.72 7.72c-.78.78-.78 2.05 0 2.83L4 21.41c.39.39.9.59 1.41.59.51 0 1.02-.2 1.41-.59l7.78-7.78 2.81-2.81c.8-.78.8-2.07 0-2.86zM5.41 20L4 18.59l7.72-7.72 1.47 1.35L5.41 20z\"/>\n",
              "  </svg>\n",
              "      </button>\n",
              "      \n",
              "  <style>\n",
              "    .colab-df-container {\n",
              "      display:flex;\n",
              "      flex-wrap:wrap;\n",
              "      gap: 12px;\n",
              "    }\n",
              "\n",
              "    .colab-df-convert {\n",
              "      background-color: #E8F0FE;\n",
              "      border: none;\n",
              "      border-radius: 50%;\n",
              "      cursor: pointer;\n",
              "      display: none;\n",
              "      fill: #1967D2;\n",
              "      height: 32px;\n",
              "      padding: 0 0 0 0;\n",
              "      width: 32px;\n",
              "    }\n",
              "\n",
              "    .colab-df-convert:hover {\n",
              "      background-color: #E2EBFA;\n",
              "      box-shadow: 0px 1px 2px rgba(60, 64, 67, 0.3), 0px 1px 3px 1px rgba(60, 64, 67, 0.15);\n",
              "      fill: #174EA6;\n",
              "    }\n",
              "\n",
              "    [theme=dark] .colab-df-convert {\n",
              "      background-color: #3B4455;\n",
              "      fill: #D2E3FC;\n",
              "    }\n",
              "\n",
              "    [theme=dark] .colab-df-convert:hover {\n",
              "      background-color: #434B5C;\n",
              "      box-shadow: 0px 1px 3px 1px rgba(0, 0, 0, 0.15);\n",
              "      filter: drop-shadow(0px 1px 2px rgba(0, 0, 0, 0.3));\n",
              "      fill: #FFFFFF;\n",
              "    }\n",
              "  </style>\n",
              "\n",
              "      <script>\n",
              "        const buttonEl =\n",
              "          document.querySelector('#df-980cab9a-0745-4b6b-9de6-948c558691a0 button.colab-df-convert');\n",
              "        buttonEl.style.display =\n",
              "          google.colab.kernel.accessAllowed ? 'block' : 'none';\n",
              "\n",
              "        async function convertToInteractive(key) {\n",
              "          const element = document.querySelector('#df-980cab9a-0745-4b6b-9de6-948c558691a0');\n",
              "          const dataTable =\n",
              "            await google.colab.kernel.invokeFunction('convertToInteractive',\n",
              "                                                     [key], {});\n",
              "          if (!dataTable) return;\n",
              "\n",
              "          const docLinkHtml = 'Like what you see? Visit the ' +\n",
              "            '<a target=\"_blank\" href=https://colab.research.google.com/notebooks/data_table.ipynb>data table notebook</a>'\n",
              "            + ' to learn more about interactive tables.';\n",
              "          element.innerHTML = '';\n",
              "          dataTable['output_type'] = 'display_data';\n",
              "          await google.colab.output.renderOutput(dataTable, element);\n",
              "          const docLink = document.createElement('div');\n",
              "          docLink.innerHTML = docLinkHtml;\n",
              "          element.appendChild(docLink);\n",
              "        }\n",
              "      </script>\n",
              "    </div>\n",
              "  </div>\n",
              "  "
            ]
          },
          "metadata": {},
          "execution_count": 4
        }
      ]
    },
    {
      "cell_type": "code",
      "source": [
        "class Normalizer():\n",
        "  def __init__(self, train_df):\n",
        "    X = train_df.drop(y_column, axis=1)\n",
        "    y = train_df[y_column]\n",
        "\n",
        "    self.X_mean = X.mean()\n",
        "    self.X_std = X.std()\n",
        "\n",
        "    self.y_mean = y.mean()\n",
        "    self.y_std = y.std()\n",
        "  \n",
        "  def X(self, X_df):\n",
        "    return (X_df - self.X_mean)/self.X_std\n",
        "  \n",
        "  def y(self, y_df):\n",
        "    return (y_df - self.y_mean)/self.y_std\n",
        "\n",
        "def get_X(df, add_intercept=True, normalizer=None, **kwargs):\n",
        "  X = df.drop(y_column, axis=1)\n",
        "  \n",
        "  if normalizer:\n",
        "    X = normalizer.X(X)\n",
        "\n",
        "  X = torch.tensor(X.values)\n",
        "\n",
        "  if add_intercept:\n",
        "    X = F.pad(X, (1, 0), value=1)  # Add column of ones on left for y-intercept (beta_0)\n",
        "  \n",
        "  return X.to(DEVICE)\n",
        "\n",
        "def get_y(df, normalizer=None, **kwargs):\n",
        "  y = df[y_column]\n",
        "  if normalizer:\n",
        "    y = normalizer.y(y)\n",
        "\n",
        "  return torch.tensor(y).to(DEVICE)\n",
        "\n",
        "def get_X_y(df, **kwargs):\n",
        "  return get_X(df, **kwargs), get_y(df, **kwargs)"
      ],
      "metadata": {
        "id": "GnIb2S7jyehY"
      },
      "execution_count": 5,
      "outputs": []
    },
    {
      "cell_type": "code",
      "source": [
        "X, y = get_X_y(train)\n",
        "X_test, y_test = get_X_y(test)\n",
        "\n",
        "normalizer = Normalizer(train)\n",
        "X_norm, y_norm = get_X_y(train, normalizer=normalizer)\n",
        "X_norm_test, y_norm_test = get_X_y(test, normalizer=normalizer)\n",
        "\n",
        "print(\"Unnormalized:\")\n",
        "print(X.shape, y.shape, X_test.shape, y_test.shape)\n",
        "\n",
        "print(\"\\nNormalized:\")\n",
        "print(X_norm.shape, y_norm.shape, X_norm_test.shape, y_norm_test.shape)"
      ],
      "metadata": {
        "colab": {
          "base_uri": "https://localhost:8080/"
        },
        "id": "6GqxNStqpyAG",
        "outputId": "f59f3feb-eb62-4718-981e-e8884fe46d15"
      },
      "execution_count": 6,
      "outputs": [
        {
          "output_type": "stream",
          "name": "stdout",
          "text": [
            "Unnormalized:\n",
            "torch.Size([17000, 9]) torch.Size([17000]) torch.Size([3000, 9]) torch.Size([3000])\n",
            "\n",
            "Normalized:\n",
            "torch.Size([17000, 9]) torch.Size([17000]) torch.Size([3000, 9]) torch.Size([3000])\n"
          ]
        }
      ]
    },
    {
      "cell_type": "markdown",
      "source": [
        "## **Perform Regression**"
      ],
      "metadata": {
        "id": "8d1sPLpq12SX"
      }
    },
    {
      "cell_type": "markdown",
      "source": [
        "### **Approach 1: Closed-Form Linear Algebra Solution**"
      ],
      "metadata": {
        "id": "jzIZUFsD3NaJ"
      }
    },
    {
      "cell_type": "markdown",
      "source": [
        "**Linear Regression Formula Derivation:**\n",
        "$$ \\vec{y} = X\\vec{\\beta} + ϵ $$\n",
        "$$ X^{T}\\vec{y} = X^{T}X \\vec{\\beta} $$\n",
        "$$ (X^{T}X)^{-1} X^{T}\\vec{y} = (X^{T}X)^{-1} X^{T}X \\vec{\\beta} $$\n",
        "$$ \\vec{\\beta} = (X^{T}X)^{-1} X^{T}\\vec{y} $$"
      ],
      "metadata": {
        "id": "GtWtjBVpsiot"
      }
    },
    {
      "cell_type": "code",
      "source": [
        "model_1 = torch.inverse(X.T @ X) @ X.T @ y\n",
        "print(model_1.device)\n",
        "print(model_1.shape)\n",
        "print(model_1)"
      ],
      "metadata": {
        "colab": {
          "base_uri": "https://localhost:8080/"
        },
        "id": "yr9Vsfx_p8jk",
        "outputId": "0265ca40-3599-4553-a0e6-5c00089a24b7"
      },
      "execution_count": 9,
      "outputs": [
        {
          "output_type": "stream",
          "name": "stdout",
          "text": [
            "cuda:0\n",
            "torch.Size([9])\n",
            "tensor([-3.6206e+06, -4.3140e+04, -4.2926e+04,  1.1507e+03, -8.3783e+00,\n",
            "         1.1765e+02, -3.8489e+01,  4.5436e+01,  4.0507e+04], device='cuda:0',\n",
            "       dtype=torch.float64)\n"
          ]
        }
      ]
    },
    {
      "cell_type": "markdown",
      "source": [
        "### **Approach 2: Fit Regression Using Stochastic Gradient Descent (SGD)**"
      ],
      "metadata": {
        "id": "l7dx48oW3lgu"
      }
    },
    {
      "cell_type": "code",
      "source": [
        "class LinearRegression(nn.Module):\n",
        "  def __init__(self):\n",
        "      super(LinearRegression, self).__init__()\n",
        "      self.regression = nn.Sequential(\n",
        "        nn.Linear(X.shape[1], 1, bias=False, dtype=torch.float64)\n",
        "      )\n",
        "\n",
        "  def forward(self, X):\n",
        "      return self.regression(X)\n",
        "\n",
        "def train(\n",
        "    model,\n",
        "    X, y,\n",
        "    X_test, y_test,\n",
        "    batch_size=512,\n",
        "    batches_to_run=500,\n",
        "    learning_rate=1e-8,\n",
        "    print_every=100\n",
        "):\n",
        "  loss_fn = nn.MSELoss()\n",
        "  optimizer = torch.optim.SGD(model.parameters(), lr=learning_rate)\n",
        "\n",
        "  for i in range(batches_to_run):\n",
        "    # Put model into training mode:\n",
        "    model.train()\n",
        "\n",
        "    # Get current batch data\n",
        "    samples_ids = torch.randint(len(X), size=(batch_size, ))\n",
        "    train_X = X[samples_ids]\n",
        "    train_y = y[samples_ids]\n",
        "\n",
        "    # Do forward pass and evaluate loss\n",
        "    predicted = model(train_X).view(train_y.shape)\n",
        "    loss = loss_fn(predicted, train_y)\n",
        "\n",
        "    # Backpropagation\n",
        "    optimizer.zero_grad()\n",
        "    loss.backward()\n",
        "    optimizer.step()\n",
        "\n",
        "    # Reporting\n",
        "    if i % print_every == 0:\n",
        "        model.eval()\n",
        "        predicted = model(X_test).view(y_test.shape)\n",
        "        loss = loss_fn(predicted, y_test)\n",
        "        print(\"loss =\", loss.item())\n",
        "        print(\"\")\n"
      ],
      "metadata": {
        "id": "XqCMZSjO3lOY"
      },
      "execution_count": 10,
      "outputs": []
    },
    {
      "cell_type": "markdown",
      "source": [
        "#### **2a: Unnormalized Data**"
      ],
      "metadata": {
        "id": "r5JWfYhChlyp"
      }
    },
    {
      "cell_type": "code",
      "source": [
        "model_2a = LinearRegression().to(DEVICE)\n",
        "print(model_2a)\n",
        "print(list(model_2a.parameters()))"
      ],
      "metadata": {
        "colab": {
          "base_uri": "https://localhost:8080/"
        },
        "id": "CDLvNzEsCEc6",
        "outputId": "e6225f37-028c-4f89-ae58-5d5cb878ece9"
      },
      "execution_count": 11,
      "outputs": [
        {
          "output_type": "stream",
          "name": "stdout",
          "text": [
            "LinearRegression(\n",
            "  (regression): Sequential(\n",
            "    (0): Linear(in_features=9, out_features=1, bias=False)\n",
            "  )\n",
            ")\n",
            "[Parameter containing:\n",
            "tensor([[ 0.1618, -0.1895,  0.2011,  0.1831, -0.2902,  0.3228, -0.0247,  0.0460,\n",
            "          0.3112]], device='cuda:0', dtype=torch.float64, requires_grad=True)]\n"
          ]
        }
      ]
    },
    {
      "cell_type": "code",
      "source": [
        "train(\n",
        "    model_2a,\n",
        "    X, y,\n",
        "    X_test, y_test,\n",
        "    batches_to_run=int(1e6),\n",
        "    batch_size=1028,\n",
        "    learning_rate=1e-8,\n",
        "    print_every=int(1e5)\n",
        "  )\n",
        "print(list(model_2a.parameters()))"
      ],
      "metadata": {
        "colab": {
          "base_uri": "https://localhost:8080/"
        },
        "id": "Hp4Y-Ib-IK5z",
        "outputId": "09dfb9f9-495d-4a9e-8516-40808448a034"
      },
      "execution_count": 12,
      "outputs": [
        {
          "output_type": "stream",
          "name": "stdout",
          "text": [
            "loss = 40193255770.050446\n",
            "\n",
            "loss = 10747022750.080841\n",
            "\n",
            "loss = 10649356211.997507\n",
            "\n",
            "loss = 10565572319.485956\n",
            "\n",
            "loss = 10499867650.904354\n",
            "\n",
            "loss = 10431759703.426239\n",
            "\n",
            "loss = 10371799309.485222\n",
            "\n",
            "loss = 10324760191.661005\n",
            "\n",
            "loss = 10258433303.174356\n",
            "\n",
            "loss = 10205132744.170042\n",
            "\n",
            "[Parameter containing:\n",
            "tensor([[   12.7302, -1342.2616,  -563.9280,  1532.7026,    42.5374,  -270.3183,\n",
            "           -64.0836,   276.8620,  2300.8707]], device='cuda:0',\n",
            "       dtype=torch.float64, requires_grad=True)]\n"
          ]
        }
      ]
    },
    {
      "cell_type": "markdown",
      "source": [
        "#### **2b: Normalized Data**"
      ],
      "metadata": {
        "id": "qU8zwwdSiP4S"
      }
    },
    {
      "cell_type": "code",
      "source": [
        "model_2b = LinearRegression().to(DEVICE)\n",
        "print(model_2b)\n",
        "print(list(model_2b.parameters()))"
      ],
      "metadata": {
        "colab": {
          "base_uri": "https://localhost:8080/"
        },
        "id": "BcUDhvXuiVv2",
        "outputId": "ada369ea-5d86-40f9-d9a1-9bac547c4aad"
      },
      "execution_count": 13,
      "outputs": [
        {
          "output_type": "stream",
          "name": "stdout",
          "text": [
            "LinearRegression(\n",
            "  (regression): Sequential(\n",
            "    (0): Linear(in_features=9, out_features=1, bias=False)\n",
            "  )\n",
            ")\n",
            "[Parameter containing:\n",
            "tensor([[ 0.1159,  0.0454, -0.0047, -0.1596,  0.3159, -0.2514, -0.1080,  0.0377,\n",
            "          0.0828]], device='cuda:0', dtype=torch.float64, requires_grad=True)]\n"
          ]
        }
      ]
    },
    {
      "cell_type": "code",
      "source": [
        "train(\n",
        "    model_2b,\n",
        "    X_norm, y_norm,\n",
        "    X_norm_test, y_norm_test,\n",
        "    batches_to_run=50000,\n",
        "    batch_size=1028,\n",
        "    learning_rate=1e-3,\n",
        "    print_every=5000\n",
        "  )\n",
        "print(list(model_2b.parameters()))"
      ],
      "metadata": {
        "colab": {
          "base_uri": "https://localhost:8080/"
        },
        "id": "CMh-1kLliiT7",
        "outputId": "278f9285-ebee-4b77-c134-6354af0e6e90"
      },
      "execution_count": 14,
      "outputs": [
        {
          "output_type": "stream",
          "name": "stdout",
          "text": [
            "loss = 0.8897616168117417\n",
            "\n",
            "loss = 0.388080712823599\n",
            "\n",
            "loss = 0.3680945476231335\n",
            "\n",
            "loss = 0.3637589560521053\n",
            "\n",
            "loss = 0.3626976776065821\n",
            "\n",
            "loss = 0.36225325603410163\n",
            "\n",
            "loss = 0.3620901580641107\n",
            "\n",
            "loss = 0.3619936334702206\n",
            "\n",
            "loss = 0.36190425559789885\n",
            "\n",
            "loss = 0.36174870602895765\n",
            "\n",
            "[Parameter containing:\n",
            "tensor([[ 2.2124e-04, -7.3706e-01, -7.8474e-01,  1.2455e-01, -1.4074e-01,\n",
            "          3.4071e-01, -3.9707e-01,  2.3927e-01,  6.6125e-01]], device='cuda:0',\n",
            "       dtype=torch.float64, requires_grad=True)]\n"
          ]
        }
      ]
    },
    {
      "cell_type": "markdown",
      "source": [
        "## **Evaluate Results**"
      ],
      "metadata": {
        "id": "v434zcoG18vK"
      }
    },
    {
      "cell_type": "code",
      "source": [
        "baseline_prediction = y.mean()\n",
        "print(\"Baseline RMSE:\", torch.sqrt(torch.mean((baseline_prediction - y_test)**2)).item())\n",
        "print(\"Baseline MAE:\", torch.mean(torch.abs(baseline_prediction - y_test)).item())\n",
        "print(\"\")\n",
        "\n",
        "y_hat = X_test @ model_1\n",
        "print(\"Model 1 RMSE:\", torch.sqrt(torch.mean((y_hat - y_test)**2)).item())\n",
        "print(\"Model 1 MAE:\", torch.mean(torch.abs(y_hat - y_test)).item())\n",
        "print(\"\")\n",
        "\n",
        "model_2a.eval()\n",
        "y_hat = model_2a(X_test).squeeze()  # n x 1 to n\n",
        "print(\"Model 2a RMSE:\", torch.sqrt(torch.mean((y_hat - y_test)**2)).item())\n",
        "print(\"Model 2a MAE:\", torch.mean(torch.abs(y_hat - y_test)).item())\n",
        "print(\"\")\n",
        "\n",
        "model_2b.eval()\n",
        "y_hat = model_2b(X_norm_test).squeeze()  # n x 1 to n\n",
        "y_hat = y_hat * normalizer.y_std + normalizer.y_mean  # De-normalize y\n",
        "print(\"Model 2b RMSE:\", torch.sqrt(torch.mean((y_hat - y_test)**2)).item())\n",
        "print(\"Model 2b MAE:\", torch.mean(torch.abs(y_hat - y_test)).item())"
      ],
      "metadata": {
        "colab": {
          "base_uri": "https://localhost:8080/"
        },
        "id": "yrvM1DTEuBzV",
        "outputId": "8bef6bca-5880-43fb-aba3-d3d046738b50"
      },
      "execution_count": 15,
      "outputs": [
        {
          "output_type": "stream",
          "name": "stdout",
          "text": [
            "Baseline RMSE: 113110.18658146849\n",
            "Baseline MAE: 89731.04773882353\n",
            "\n",
            "Model 1 RMSE: 69765.36022218474\n",
            "Model 1 MAE: 50352.22825805612\n",
            "\n",
            "Model 2a RMSE: 100754.68240539066\n",
            "Model 2a MAE: 78390.4515916131\n",
            "\n",
            "Model 2b RMSE: 69766.8635255155\n",
            "Model 2b MAE: 50338.97467580825\n"
          ]
        }
      ]
    },
    {
      "cell_type": "code",
      "source": [],
      "metadata": {
        "id": "ylhHtR1rDfb_"
      },
      "execution_count": null,
      "outputs": []
    }
  ]
}